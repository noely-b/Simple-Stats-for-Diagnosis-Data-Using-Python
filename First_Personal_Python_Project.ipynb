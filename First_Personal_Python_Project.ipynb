{
  "nbformat": 4,
  "nbformat_minor": 0,
  "metadata": {
    "colab": {
      "provenance": [],
      "authorship_tag": "ABX9TyPf4+M0Jn5X0S6wCofNRToQ",
      "include_colab_link": true
    },
    "kernelspec": {
      "name": "python3",
      "display_name": "Python 3"
    },
    "language_info": {
      "name": "python"
    }
  },
  "cells": [
    {
      "cell_type": "markdown",
      "metadata": {
        "id": "view-in-github",
        "colab_type": "text"
      },
      "source": [
        "<a href=\"https://colab.research.google.com/github/noely-b/Simple-Stats-for-Diagnosis-Data-Using-Python/blob/main/First_Personal_Python_Project.ipynb\" target=\"_parent\"><img src=\"https://colab.research.google.com/assets/colab-badge.svg\" alt=\"Open In Colab\"/></a>"
      ]
    },
    {
      "cell_type": "code",
      "execution_count": null,
      "metadata": {
        "id": "l3HdBzLeA-19"
      },
      "outputs": [],
      "source": [
        "#This is a simple project using skills that I've learned in the first month of an Analytics course. I'll be using data from a prior class (Clinical Decision Support Systems)"
      ]
    },
    {
      "cell_type": "markdown",
      "source": [
        "We will be examining statistical information of the data"
      ],
      "metadata": {
        "id": "rB0ZYanvFmJV"
      }
    },
    {
      "cell_type": "code",
      "source": [
        "#I'll be using Pandas for this\n",
        "import pandas as pd"
      ],
      "metadata": {
        "id": "OZpfEsGODldQ"
      },
      "execution_count": null,
      "outputs": []
    },
    {
      "cell_type": "code",
      "source": [
        "#Upload Excel dataset\n",
        "df = pd.read_excel('DiagnosisSampleData.xlsx')"
      ],
      "metadata": {
        "id": "MUMy7IP1DwSc"
      },
      "execution_count": null,
      "outputs": []
    },
    {
      "cell_type": "code",
      "source": [
        "#Verify that the data successfully imported\n",
        "df.head()"
      ],
      "metadata": {
        "colab": {
          "base_uri": "https://localhost:8080/",
          "height": 258
        },
        "id": "aEhWGMzVESnf",
        "outputId": "e8f34393-ff42-438a-d7ab-93a63dfb7253"
      },
      "execution_count": null,
      "outputs": [
        {
          "output_type": "execute_result",
          "data": {
            "text/plain": [
              "      Sex  Age  Temperature (in Farenheit)  Level of Consciousness Vomiting  \\\n",
              "0    Male   34                        99.5                       5      Yes   \n",
              "1    Male   55                        98.8                       5       No   \n",
              "2    Male    5                        98.6                       5      Yes   \n",
              "3  Female   62                        98.5                       5       No   \n",
              "4  Female   76                        98.6                       5       No   \n",
              "\n",
              "  Diaphoresis (sweating)  Blood sugar                 Diagnosis  \n",
              "0                    Yes          100            Food Poisoning  \n",
              "1                     No          150              Pre-Diabetes  \n",
              "2                     No          323  Diabetes - hyperglycemia  \n",
              "3                     No           75   Diabetes - hypoglycemia  \n",
              "4                     No           89                    Normal  "
            ],
            "text/html": [
              "\n",
              "  <div id=\"df-43571bf4-09d2-4349-9f50-44aee940d4ed\" class=\"colab-df-container\">\n",
              "    <div>\n",
              "<style scoped>\n",
              "    .dataframe tbody tr th:only-of-type {\n",
              "        vertical-align: middle;\n",
              "    }\n",
              "\n",
              "    .dataframe tbody tr th {\n",
              "        vertical-align: top;\n",
              "    }\n",
              "\n",
              "    .dataframe thead th {\n",
              "        text-align: right;\n",
              "    }\n",
              "</style>\n",
              "<table border=\"1\" class=\"dataframe\">\n",
              "  <thead>\n",
              "    <tr style=\"text-align: right;\">\n",
              "      <th></th>\n",
              "      <th>Sex</th>\n",
              "      <th>Age</th>\n",
              "      <th>Temperature (in Farenheit)</th>\n",
              "      <th>Level of Consciousness</th>\n",
              "      <th>Vomiting</th>\n",
              "      <th>Diaphoresis (sweating)</th>\n",
              "      <th>Blood sugar</th>\n",
              "      <th>Diagnosis</th>\n",
              "    </tr>\n",
              "  </thead>\n",
              "  <tbody>\n",
              "    <tr>\n",
              "      <th>0</th>\n",
              "      <td>Male</td>\n",
              "      <td>34</td>\n",
              "      <td>99.5</td>\n",
              "      <td>5</td>\n",
              "      <td>Yes</td>\n",
              "      <td>Yes</td>\n",
              "      <td>100</td>\n",
              "      <td>Food Poisoning</td>\n",
              "    </tr>\n",
              "    <tr>\n",
              "      <th>1</th>\n",
              "      <td>Male</td>\n",
              "      <td>55</td>\n",
              "      <td>98.8</td>\n",
              "      <td>5</td>\n",
              "      <td>No</td>\n",
              "      <td>No</td>\n",
              "      <td>150</td>\n",
              "      <td>Pre-Diabetes</td>\n",
              "    </tr>\n",
              "    <tr>\n",
              "      <th>2</th>\n",
              "      <td>Male</td>\n",
              "      <td>5</td>\n",
              "      <td>98.6</td>\n",
              "      <td>5</td>\n",
              "      <td>Yes</td>\n",
              "      <td>No</td>\n",
              "      <td>323</td>\n",
              "      <td>Diabetes - hyperglycemia</td>\n",
              "    </tr>\n",
              "    <tr>\n",
              "      <th>3</th>\n",
              "      <td>Female</td>\n",
              "      <td>62</td>\n",
              "      <td>98.5</td>\n",
              "      <td>5</td>\n",
              "      <td>No</td>\n",
              "      <td>No</td>\n",
              "      <td>75</td>\n",
              "      <td>Diabetes - hypoglycemia</td>\n",
              "    </tr>\n",
              "    <tr>\n",
              "      <th>4</th>\n",
              "      <td>Female</td>\n",
              "      <td>76</td>\n",
              "      <td>98.6</td>\n",
              "      <td>5</td>\n",
              "      <td>No</td>\n",
              "      <td>No</td>\n",
              "      <td>89</td>\n",
              "      <td>Normal</td>\n",
              "    </tr>\n",
              "  </tbody>\n",
              "</table>\n",
              "</div>\n",
              "    <div class=\"colab-df-buttons\">\n",
              "\n",
              "  <div class=\"colab-df-container\">\n",
              "    <button class=\"colab-df-convert\" onclick=\"convertToInteractive('df-43571bf4-09d2-4349-9f50-44aee940d4ed')\"\n",
              "            title=\"Convert this dataframe to an interactive table.\"\n",
              "            style=\"display:none;\">\n",
              "\n",
              "  <svg xmlns=\"http://www.w3.org/2000/svg\" height=\"24px\" viewBox=\"0 -960 960 960\">\n",
              "    <path d=\"M120-120v-720h720v720H120Zm60-500h600v-160H180v160Zm220 220h160v-160H400v160Zm0 220h160v-160H400v160ZM180-400h160v-160H180v160Zm440 0h160v-160H620v160ZM180-180h160v-160H180v160Zm440 0h160v-160H620v160Z\"/>\n",
              "  </svg>\n",
              "    </button>\n",
              "\n",
              "  <style>\n",
              "    .colab-df-container {\n",
              "      display:flex;\n",
              "      gap: 12px;\n",
              "    }\n",
              "\n",
              "    .colab-df-convert {\n",
              "      background-color: #E8F0FE;\n",
              "      border: none;\n",
              "      border-radius: 50%;\n",
              "      cursor: pointer;\n",
              "      display: none;\n",
              "      fill: #1967D2;\n",
              "      height: 32px;\n",
              "      padding: 0 0 0 0;\n",
              "      width: 32px;\n",
              "    }\n",
              "\n",
              "    .colab-df-convert:hover {\n",
              "      background-color: #E2EBFA;\n",
              "      box-shadow: 0px 1px 2px rgba(60, 64, 67, 0.3), 0px 1px 3px 1px rgba(60, 64, 67, 0.15);\n",
              "      fill: #174EA6;\n",
              "    }\n",
              "\n",
              "    .colab-df-buttons div {\n",
              "      margin-bottom: 4px;\n",
              "    }\n",
              "\n",
              "    [theme=dark] .colab-df-convert {\n",
              "      background-color: #3B4455;\n",
              "      fill: #D2E3FC;\n",
              "    }\n",
              "\n",
              "    [theme=dark] .colab-df-convert:hover {\n",
              "      background-color: #434B5C;\n",
              "      box-shadow: 0px 1px 3px 1px rgba(0, 0, 0, 0.15);\n",
              "      filter: drop-shadow(0px 1px 2px rgba(0, 0, 0, 0.3));\n",
              "      fill: #FFFFFF;\n",
              "    }\n",
              "  </style>\n",
              "\n",
              "    <script>\n",
              "      const buttonEl =\n",
              "        document.querySelector('#df-43571bf4-09d2-4349-9f50-44aee940d4ed button.colab-df-convert');\n",
              "      buttonEl.style.display =\n",
              "        google.colab.kernel.accessAllowed ? 'block' : 'none';\n",
              "\n",
              "      async function convertToInteractive(key) {\n",
              "        const element = document.querySelector('#df-43571bf4-09d2-4349-9f50-44aee940d4ed');\n",
              "        const dataTable =\n",
              "          await google.colab.kernel.invokeFunction('convertToInteractive',\n",
              "                                                    [key], {});\n",
              "        if (!dataTable) return;\n",
              "\n",
              "        const docLinkHtml = 'Like what you see? Visit the ' +\n",
              "          '<a target=\"_blank\" href=https://colab.research.google.com/notebooks/data_table.ipynb>data table notebook</a>'\n",
              "          + ' to learn more about interactive tables.';\n",
              "        element.innerHTML = '';\n",
              "        dataTable['output_type'] = 'display_data';\n",
              "        await google.colab.output.renderOutput(dataTable, element);\n",
              "        const docLink = document.createElement('div');\n",
              "        docLink.innerHTML = docLinkHtml;\n",
              "        element.appendChild(docLink);\n",
              "      }\n",
              "    </script>\n",
              "  </div>\n",
              "\n",
              "\n",
              "<div id=\"df-da2f97d8-288e-48b7-aec2-6e6a31bb1d1b\">\n",
              "  <button class=\"colab-df-quickchart\" onclick=\"quickchart('df-da2f97d8-288e-48b7-aec2-6e6a31bb1d1b')\"\n",
              "            title=\"Suggest charts\"\n",
              "            style=\"display:none;\">\n",
              "\n",
              "<svg xmlns=\"http://www.w3.org/2000/svg\" height=\"24px\"viewBox=\"0 0 24 24\"\n",
              "     width=\"24px\">\n",
              "    <g>\n",
              "        <path d=\"M19 3H5c-1.1 0-2 .9-2 2v14c0 1.1.9 2 2 2h14c1.1 0 2-.9 2-2V5c0-1.1-.9-2-2-2zM9 17H7v-7h2v7zm4 0h-2V7h2v10zm4 0h-2v-4h2v4z\"/>\n",
              "    </g>\n",
              "</svg>\n",
              "  </button>\n",
              "\n",
              "<style>\n",
              "  .colab-df-quickchart {\n",
              "      --bg-color: #E8F0FE;\n",
              "      --fill-color: #1967D2;\n",
              "      --hover-bg-color: #E2EBFA;\n",
              "      --hover-fill-color: #174EA6;\n",
              "      --disabled-fill-color: #AAA;\n",
              "      --disabled-bg-color: #DDD;\n",
              "  }\n",
              "\n",
              "  [theme=dark] .colab-df-quickchart {\n",
              "      --bg-color: #3B4455;\n",
              "      --fill-color: #D2E3FC;\n",
              "      --hover-bg-color: #434B5C;\n",
              "      --hover-fill-color: #FFFFFF;\n",
              "      --disabled-bg-color: #3B4455;\n",
              "      --disabled-fill-color: #666;\n",
              "  }\n",
              "\n",
              "  .colab-df-quickchart {\n",
              "    background-color: var(--bg-color);\n",
              "    border: none;\n",
              "    border-radius: 50%;\n",
              "    cursor: pointer;\n",
              "    display: none;\n",
              "    fill: var(--fill-color);\n",
              "    height: 32px;\n",
              "    padding: 0;\n",
              "    width: 32px;\n",
              "  }\n",
              "\n",
              "  .colab-df-quickchart:hover {\n",
              "    background-color: var(--hover-bg-color);\n",
              "    box-shadow: 0 1px 2px rgba(60, 64, 67, 0.3), 0 1px 3px 1px rgba(60, 64, 67, 0.15);\n",
              "    fill: var(--button-hover-fill-color);\n",
              "  }\n",
              "\n",
              "  .colab-df-quickchart-complete:disabled,\n",
              "  .colab-df-quickchart-complete:disabled:hover {\n",
              "    background-color: var(--disabled-bg-color);\n",
              "    fill: var(--disabled-fill-color);\n",
              "    box-shadow: none;\n",
              "  }\n",
              "\n",
              "  .colab-df-spinner {\n",
              "    border: 2px solid var(--fill-color);\n",
              "    border-color: transparent;\n",
              "    border-bottom-color: var(--fill-color);\n",
              "    animation:\n",
              "      spin 1s steps(1) infinite;\n",
              "  }\n",
              "\n",
              "  @keyframes spin {\n",
              "    0% {\n",
              "      border-color: transparent;\n",
              "      border-bottom-color: var(--fill-color);\n",
              "      border-left-color: var(--fill-color);\n",
              "    }\n",
              "    20% {\n",
              "      border-color: transparent;\n",
              "      border-left-color: var(--fill-color);\n",
              "      border-top-color: var(--fill-color);\n",
              "    }\n",
              "    30% {\n",
              "      border-color: transparent;\n",
              "      border-left-color: var(--fill-color);\n",
              "      border-top-color: var(--fill-color);\n",
              "      border-right-color: var(--fill-color);\n",
              "    }\n",
              "    40% {\n",
              "      border-color: transparent;\n",
              "      border-right-color: var(--fill-color);\n",
              "      border-top-color: var(--fill-color);\n",
              "    }\n",
              "    60% {\n",
              "      border-color: transparent;\n",
              "      border-right-color: var(--fill-color);\n",
              "    }\n",
              "    80% {\n",
              "      border-color: transparent;\n",
              "      border-right-color: var(--fill-color);\n",
              "      border-bottom-color: var(--fill-color);\n",
              "    }\n",
              "    90% {\n",
              "      border-color: transparent;\n",
              "      border-bottom-color: var(--fill-color);\n",
              "    }\n",
              "  }\n",
              "</style>\n",
              "\n",
              "  <script>\n",
              "    async function quickchart(key) {\n",
              "      const quickchartButtonEl =\n",
              "        document.querySelector('#' + key + ' button');\n",
              "      quickchartButtonEl.disabled = true;  // To prevent multiple clicks.\n",
              "      quickchartButtonEl.classList.add('colab-df-spinner');\n",
              "      try {\n",
              "        const charts = await google.colab.kernel.invokeFunction(\n",
              "            'suggestCharts', [key], {});\n",
              "      } catch (error) {\n",
              "        console.error('Error during call to suggestCharts:', error);\n",
              "      }\n",
              "      quickchartButtonEl.classList.remove('colab-df-spinner');\n",
              "      quickchartButtonEl.classList.add('colab-df-quickchart-complete');\n",
              "    }\n",
              "    (() => {\n",
              "      let quickchartButtonEl =\n",
              "        document.querySelector('#df-da2f97d8-288e-48b7-aec2-6e6a31bb1d1b button');\n",
              "      quickchartButtonEl.style.display =\n",
              "        google.colab.kernel.accessAllowed ? 'block' : 'none';\n",
              "    })();\n",
              "  </script>\n",
              "</div>\n",
              "\n",
              "    </div>\n",
              "  </div>\n"
            ],
            "application/vnd.google.colaboratory.intrinsic+json": {
              "type": "dataframe",
              "variable_name": "df",
              "summary": "{\n  \"name\": \"df\",\n  \"rows\": 102,\n  \"fields\": [\n    {\n      \"column\": \"Sex\",\n      \"properties\": {\n        \"dtype\": \"category\",\n        \"num_unique_values\": 2,\n        \"samples\": [\n          \"Female\",\n          \"Male\"\n        ],\n        \"semantic_type\": \"\",\n        \"description\": \"\"\n      }\n    },\n    {\n      \"column\": \"Age\",\n      \"properties\": {\n        \"dtype\": \"number\",\n        \"std\": 21,\n        \"min\": 4,\n        \"max\": 88,\n        \"num_unique_values\": 58,\n        \"samples\": [\n          34,\n          17\n        ],\n        \"semantic_type\": \"\",\n        \"description\": \"\"\n      }\n    },\n    {\n      \"column\": \"Temperature (in Farenheit)\",\n      \"properties\": {\n        \"dtype\": \"number\",\n        \"std\": 1.241199265382142,\n        \"min\": 93.6,\n        \"max\": 99.5,\n        \"num_unique_values\": 28,\n        \"samples\": [\n          95.3,\n          96.7\n        ],\n        \"semantic_type\": \"\",\n        \"description\": \"\"\n      }\n    },\n    {\n      \"column\": \"Level of Consciousness\",\n      \"properties\": {\n        \"dtype\": \"number\",\n        \"std\": 1,\n        \"min\": 1,\n        \"max\": 5,\n        \"num_unique_values\": 5,\n        \"samples\": [\n          3,\n          2\n        ],\n        \"semantic_type\": \"\",\n        \"description\": \"\"\n      }\n    },\n    {\n      \"column\": \"Vomiting\",\n      \"properties\": {\n        \"dtype\": \"category\",\n        \"num_unique_values\": 2,\n        \"samples\": [\n          \"No\",\n          \"Yes\"\n        ],\n        \"semantic_type\": \"\",\n        \"description\": \"\"\n      }\n    },\n    {\n      \"column\": \"Diaphoresis (sweating)\",\n      \"properties\": {\n        \"dtype\": \"category\",\n        \"num_unique_values\": 2,\n        \"samples\": [\n          \"No\",\n          \"Yes\"\n        ],\n        \"semantic_type\": \"\",\n        \"description\": \"\"\n      }\n    },\n    {\n      \"column\": \"Blood sugar\",\n      \"properties\": {\n        \"dtype\": \"number\",\n        \"std\": 107,\n        \"min\": 27,\n        \"max\": 420,\n        \"num_unique_values\": 82,\n        \"samples\": [\n          373,\n          100\n        ],\n        \"semantic_type\": \"\",\n        \"description\": \"\"\n      }\n    },\n    {\n      \"column\": \"Diagnosis\",\n      \"properties\": {\n        \"dtype\": \"category\",\n        \"num_unique_values\": 6,\n        \"samples\": [\n          \"Food Poisoning\",\n          \"Pre-Diabetes\"\n        ],\n        \"semantic_type\": \"\",\n        \"description\": \"\"\n      }\n    }\n  ]\n}"
            }
          },
          "metadata": {},
          "execution_count": 10
        }
      ]
    },
    {
      "cell_type": "code",
      "source": [
        "#See basic info from the dataset\n",
        "df.info()"
      ],
      "metadata": {
        "colab": {
          "base_uri": "https://localhost:8080/"
        },
        "id": "gffszXlTEzhX",
        "outputId": "f63f2c7b-cfeb-4db0-aaff-97adabc1ec84"
      },
      "execution_count": null,
      "outputs": [
        {
          "output_type": "stream",
          "name": "stdout",
          "text": [
            "<class 'pandas.core.frame.DataFrame'>\n",
            "RangeIndex: 102 entries, 0 to 101\n",
            "Data columns (total 8 columns):\n",
            " #   Column                      Non-Null Count  Dtype  \n",
            "---  ------                      --------------  -----  \n",
            " 0   Sex                         102 non-null    object \n",
            " 1   Age                         102 non-null    int64  \n",
            " 2   Temperature (in Farenheit)  102 non-null    float64\n",
            " 3   Level of Consciousness      102 non-null    int64  \n",
            " 4   Vomiting                    101 non-null    object \n",
            " 5   Diaphoresis (sweating)      102 non-null    object \n",
            " 6   Blood sugar                 102 non-null    int64  \n",
            " 7   Diagnosis                   102 non-null    object \n",
            "dtypes: float64(1), int64(3), object(4)\n",
            "memory usage: 6.5+ KB\n"
          ]
        }
      ]
    },
    {
      "cell_type": "code",
      "source": [
        "#To be able to conduct data visualization\n",
        "import matplotlib.pyplot as plt"
      ],
      "metadata": {
        "id": "IYflfjBeGvT-"
      },
      "execution_count": null,
      "outputs": []
    },
    {
      "source": [
        "# @title Blood sugar\n",
        "\n",
        "from matplotlib import pyplot as plt\n",
        "df['Blood sugar'].plot(kind='hist', bins=20, title='Blood sugar')\n",
        "plt.gca().spines[['top', 'right',]].set_visible(False)"
      ],
      "cell_type": "code",
      "execution_count": null,
      "outputs": [
        {
          "output_type": "display_data",
          "data": {
            "text/plain": [
              "<Figure size 640x480 with 1 Axes>"
            ],
            "image/png": "[encoded data removed]"
          },
          "metadata": {}
        }
      ],
      "metadata": {
        "colab": {
          "base_uri": "https://localhost:8080/",
          "height": 452
        },
        "id": "1cftNXYOFdaf",
        "outputId": "621f5745-59e5-4d9f-938e-e250dd5f0b05"
      }
    },
    {
      "cell_type": "markdown",
      "source": [
        "I've created a histogram to show the frequency in blood sugar ranges. The data is positively skewed; reflecting that most people from the data set are within normal blood sugar range"
      ],
      "metadata": {
        "id": "AKePvXImGBnA"
      }
    },
    {
      "cell_type": "code",
      "source": [
        "#I will conduct descriptive statistics to further explain the histogram"
      ],
      "metadata": {
        "id": "XEL_TT5iHFye"
      },
      "execution_count": null,
      "outputs": []
    },
    {
      "cell_type": "code",
      "source": [
        "df['Blood sugar'].mean()"
      ],
      "metadata": {
        "colab": {
          "base_uri": "https://localhost:8080/"
        },
        "id": "s5GxaHQIHrPv",
        "outputId": "0b7a4119-647f-4cb7-c330-02bffb963abe"
      },
      "execution_count": null,
      "outputs": [
        {
          "output_type": "execute_result",
          "data": {
            "text/plain": [
              "169.8921568627451"
            ]
          },
          "metadata": {},
          "execution_count": 16
        }
      ]
    },
    {
      "cell_type": "code",
      "source": [
        "df['Blood sugar'].median()"
      ],
      "metadata": {
        "colab": {
          "base_uri": "https://localhost:8080/"
        },
        "id": "PYlj6ueIH03o",
        "outputId": "2cbecd0f-56d7-4563-bafe-faedc7f6165e"
      },
      "execution_count": null,
      "outputs": [
        {
          "output_type": "execute_result",
          "data": {
            "text/plain": [
              "113.5"
            ]
          },
          "metadata": {},
          "execution_count": 17
        }
      ]
    },
    {
      "cell_type": "code",
      "source": [
        "df['Blood sugar'].std"
      ],
      "metadata": {
        "colab": {
          "base_uri": "https://localhost:8080/",
          "height": 187
        },
        "id": "cReavQiQIN0G",
        "outputId": "650929ed-fe16-432b-96ff-f6856005c165"
      },
      "execution_count": null,
      "outputs": [
        {
          "output_type": "execute_result",
          "data": {
            "text/plain": [
              "<bound method Series.std of 0      100\n",
              "1      150\n",
              "2      323\n",
              "3       75\n",
              "4       89\n",
              "      ... \n",
              "97      95\n",
              "98     120\n",
              "99     105\n",
              "100    221\n",
              "101    305\n",
              "Name: Blood sugar, Length: 102, dtype: int64>"
            ],
            "text/html": [
              "<div style=\"max-width:800px; border: 1px solid var(--colab-border-color);\"><style>\n",
              "      pre.function-repr-contents {\n",
              "        overflow-x: auto;\n",
              "        padding: 8px 12px;\n",
              "        max-height: 500px;\n",
              "      }\n",
              "\n",
              "      pre.function-repr-contents.function-repr-contents-collapsed {\n",
              "        cursor: pointer;\n",
              "        max-height: 100px;\n",
              "      }\n",
              "    </style>\n",
              "    <pre style=\"white-space: initial; background:\n",
              "         var(--colab-secondary-surface-color); padding: 8px 12px;\n",
              "         border-bottom: 1px solid var(--colab-border-color);\"><b>pandas.core.series.Series.std</b><br/>def std(axis: Axis | None=None, skipna: bool=True, ddof: int=1, numeric_only: bool=False, **kwargs)</pre><pre class=\"function-repr-contents function-repr-contents-collapsed\" style=\"\"><a class=\"filepath\" style=\"display:none\" href=\"#\">/usr/local/lib/python3.11/dist-packages/pandas/core/series.py</a>Return sample standard deviation over requested axis.\n",
              "\n",
              "Normalized by N-1 by default. This can be changed using the ddof argument.\n",
              "\n",
              "Parameters\n",
              "----------\n",
              "axis : {index (0)}\n",
              "    For `Series` this parameter is unused and defaults to 0.\n",
              "\n",
              "    .. warning::\n",
              "\n",
              "        The behavior of DataFrame.std with ``axis=None`` is deprecated,\n",
              "        in a future version this will reduce over both axes and return a scalar\n",
              "        To retain the old behavior, pass axis=0 (or do not pass axis).\n",
              "\n",
              "skipna : bool, default True\n",
              "    Exclude NA/null values. If an entire row/column is NA, the result\n",
              "    will be NA.\n",
              "ddof : int, default 1\n",
              "    Delta Degrees of Freedom. The divisor used in calculations is N - ddof,\n",
              "    where N represents the number of elements.\n",
              "numeric_only : bool, default False\n",
              "    Include only float, int, boolean columns. Not implemented for Series.\n",
              "\n",
              "Returns\n",
              "-------\n",
              "scalar or Series (if level specified) \n",
              "\n",
              "Notes\n",
              "-----\n",
              "To have the same behaviour as `numpy.std`, use `ddof=0` (instead of the\n",
              "default `ddof=1`)\n",
              "\n",
              "Examples\n",
              "--------\n",
              "&gt;&gt;&gt; df = pd.DataFrame({&#x27;person_id&#x27;: [0, 1, 2, 3],\n",
              "...                    &#x27;age&#x27;: [21, 25, 62, 43],\n",
              "...                    &#x27;height&#x27;: [1.61, 1.87, 1.49, 2.01]}\n",
              "...                   ).set_index(&#x27;person_id&#x27;)\n",
              "&gt;&gt;&gt; df\n",
              "           age  height\n",
              "person_id\n",
              "0           21    1.61\n",
              "1           25    1.87\n",
              "2           62    1.49\n",
              "3           43    2.01\n",
              "\n",
              "The standard deviation of the columns can be found as follows:\n",
              "\n",
              "&gt;&gt;&gt; df.std()\n",
              "age       18.786076\n",
              "height     0.237417\n",
              "dtype: float64\n",
              "\n",
              "Alternatively, `ddof=0` can be set to normalize by N instead of N-1:\n",
              "\n",
              "&gt;&gt;&gt; df.std(ddof=0)\n",
              "age       16.269219\n",
              "height     0.205609\n",
              "dtype: float64</pre>\n",
              "      <script>\n",
              "      if (google.colab.kernel.accessAllowed && google.colab.files && google.colab.files.view) {\n",
              "        for (const element of document.querySelectorAll('.filepath')) {\n",
              "          element.style.display = 'block'\n",
              "          element.onclick = (event) => {\n",
              "            event.preventDefault();\n",
              "            event.stopPropagation();\n",
              "            google.colab.files.view(element.textContent, 6583);\n",
              "          };\n",
              "        }\n",
              "      }\n",
              "      for (const element of document.querySelectorAll('.function-repr-contents')) {\n",
              "        element.onclick = (event) => {\n",
              "          event.preventDefault();\n",
              "          event.stopPropagation();\n",
              "          element.classList.toggle('function-repr-contents-collapsed');\n",
              "        };\n",
              "      }\n",
              "      </script>\n",
              "      </div>"
            ]
          },
          "metadata": {},
          "execution_count": 19
        }
      ]
    },
    {
      "cell_type": "code",
      "source": [
        "df['Blood sugar'].min()"
      ],
      "metadata": {
        "colab": {
          "base_uri": "https://localhost:8080/"
        },
        "id": "O5OLpsjAInpa",
        "outputId": "56dcd2bb-d8a2-408d-dc4b-4250f4fbe248"
      },
      "execution_count": null,
      "outputs": [
        {
          "output_type": "execute_result",
          "data": {
            "text/plain": [
              "27"
            ]
          },
          "metadata": {},
          "execution_count": 20
        }
      ]
    },
    {
      "cell_type": "code",
      "source": [
        "df['Blood sugar'].max()"
      ],
      "metadata": {
        "colab": {
          "base_uri": "https://localhost:8080/"
        },
        "id": "NNHxeCQwIunM",
        "outputId": "f09f01dc-6fcb-42df-c0d1-6af63587b370"
      },
      "execution_count": null,
      "outputs": [
        {
          "output_type": "execute_result",
          "data": {
            "text/plain": [
              "420"
            ]
          },
          "metadata": {},
          "execution_count": 21
        }
      ]
    },
    {
      "cell_type": "code",
      "source": [
        "df['Blood sugar'].mode()"
      ],
      "metadata": {
        "colab": {
          "base_uri": "https://localhost:8080/",
          "height": 115
        },
        "id": "_WL8b4ydI0Nj",
        "outputId": "a4678769-2307-4e8e-80ac-80f86e92d402"
      },
      "execution_count": null,
      "outputs": [
        {
          "output_type": "execute_result",
          "data": {
            "text/plain": [
              "0    100\n",
              "Name: Blood sugar, dtype: int64"
            ],
            "text/html": [
              "<div>\n",
              "<style scoped>\n",
              "    .dataframe tbody tr th:only-of-type {\n",
              "        vertical-align: middle;\n",
              "    }\n",
              "\n",
              "    .dataframe tbody tr th {\n",
              "        vertical-align: top;\n",
              "    }\n",
              "\n",
              "    .dataframe thead th {\n",
              "        text-align: right;\n",
              "    }\n",
              "</style>\n",
              "<table border=\"1\" class=\"dataframe\">\n",
              "  <thead>\n",
              "    <tr style=\"text-align: right;\">\n",
              "      <th></th>\n",
              "      <th>Blood sugar</th>\n",
              "    </tr>\n",
              "  </thead>\n",
              "  <tbody>\n",
              "    <tr>\n",
              "      <th>0</th>\n",
              "      <td>100</td>\n",
              "    </tr>\n",
              "  </tbody>\n",
              "</table>\n",
              "</div><br><label><b>dtype:</b> int64</label>"
            ]
          },
          "metadata": {},
          "execution_count": 22
        }
      ]
    },
    {
      "cell_type": "code",
      "source": [
        "#I'll be adding more bins to the histogram to better compare it with the descriptive stats"
      ],
      "metadata": {
        "id": "NurDAnk4JyNB"
      },
      "execution_count": null,
      "outputs": []
    },
    {
      "cell_type": "code",
      "source": [
        "# @title Blood sugar 2\n",
        "\n",
        "from matplotlib import pyplot as plt\n",
        "df['Blood sugar'].plot(kind='hist', bins=27, title='Blood sugar')\n",
        "plt.gca().spines[['top', 'right',]].set_visible(False)"
      ],
      "metadata": {
        "colab": {
          "base_uri": "https://localhost:8080/",
          "height": 452
        },
        "id": "Uy1gVVKEKPmr",
        "outputId": "56f24a33-c1d6-4b77-90bb-28c8882c7f85"
      },
      "execution_count": null,
      "outputs": [
        {
          "output_type": "display_data",
          "data": {
            "text/plain": [
              "<Figure size 640x480 with 1 Axes>"
            ],
            "image/png": "[encoded data removed]"
          },
          "metadata": {}
        }
      ]
    },
    {
      "cell_type": "code",
      "source": [
        "#Descriptive Stats with the New Histogram:"
      ],
      "metadata": {
        "id": "W13ebNrJK1_v"
      },
      "execution_count": null,
      "outputs": []
    },
    {
      "cell_type": "markdown",
      "source": [
        "*Mean* ≈ 170. This is due to having multiple patients with high blood sugar levels, as it can be seen in the histogram\n",
        "\n",
        "\n"
      ],
      "metadata": {
        "id": "ABoSR90eK3rT"
      }
    },
    {
      "cell_type": "markdown",
      "source": [
        " *Standard Deviation* = dependent on other factors, such as patient's height or age, per the previous analysis. In reality, the factor that's blood sugar level is most dependent on is health condition"
      ],
      "metadata": {
        "id": "dxIeo5xpNaiO"
      }
    },
    {
      "cell_type": "markdown",
      "source": [
        " *Median* = 113.5, which reflects that majority of the blood sugar levels are within/near the low 100s\n"
      ],
      "metadata": {
        "id": "v6IKLAfVNUGQ"
      }
    },
    {
      "cell_type": "markdown",
      "source": [
        "*Range* = 420 - 27 = 393. This is why we see that in the histogram, we have patients with low and high levels of blood sugar."
      ],
      "metadata": {
        "id": "WTd0LgSUNYMt"
      }
    },
    {
      "cell_type": "markdown",
      "source": [
        "*Mode* = 100, where we see the bin with the highest frequency"
      ],
      "metadata": {
        "id": "kXh9TMR6Krzh"
      }
    },
    {
      "cell_type": "code",
      "source": [
        "#What this means"
      ],
      "metadata": {
        "id": "-vSwO3BSOHLU"
      },
      "execution_count": null,
      "outputs": []
    },
    {
      "cell_type": "markdown",
      "source": [
        "Knowing how the distribution of blood sugar levels is important for healthcare professionals. While blood sugar levels fluctuates and is dependent on factors such as health conditions (ex: diabetes), this type of information can set the standard of what's the typical blood sugar level for a patient. This, in turn, means that patients can get the help they need based on their condition."
      ],
      "metadata": {
        "id": "kfFnLg6BONDk"
      }
    },
    {
      "cell_type": "code",
      "source": [
        "#Since health condition has an influence on blood sugar levels, we can create a scatter plot to show correlation between blood sugar levels and health condition (diagnosis)"
      ],
      "metadata": {
        "id": "zypuCdAOoJSw"
      },
      "execution_count": null,
      "outputs": []
    },
    {
      "cell_type": "code",
      "source": [
        "# @title Blood Sugar and Diagnosis\n",
        "import matplotlib.pyplot as plt\n",
        "import pandas as pd\n",
        "df = pd.read_excel('DiagnosisSampleData.xlsx')\n",
        "plt.scatter(df['Diagnosis'], df['Blood sugar'])\n",
        "plt.xlabel('Diagnosis')\n",
        "plt.ylabel('Blood sugar')\n",
        "plt.show()"
      ],
      "metadata": {
        "colab": {
          "base_uri": "https://localhost:8080/",
          "height": 449
        },
        "id": "DloId3e3ojN4",
        "outputId": "666ea05e-6f22-4f19-b60f-b654eaa0abad"
      },
      "execution_count": 7,
      "outputs": [
        {
          "output_type": "display_data",
          "data": {
            "text/plain": [
              "<Figure size 640x480 with 1 Axes>"
            ],
            "image/png": "[encoded data removed]"
          },
          "metadata": {}
        }
      ]
    },
    {
      "cell_type": "markdown",
      "source": [
        "*To provide clarity about the x-axis ticks: The 1st one represents \"Food Poisoning\", the 2nd one \"Pre-Diabetes\", the 3rd one \"Diabetes - hyperglycemia\", the 4th one \"Diabetes - hypoglycemia\", the 5th one \"Normal\", and the 6th one \"Shock\"*"
      ],
      "metadata": {
        "id": "gaZiLjemptcD"
      }
    },
    {
      "cell_type": "markdown",
      "source": [
        "We can see that each diagnosis has its range of blood sugar levels; which means that certain blood sugar level, combined with other sympotms, can indicate a patient's health condition. We can see that people with conditions such as hypoglycemia tend to have lower blood sugar levels than usual, while those with hyperglycemia tend to have higher blood sugar levels."
      ],
      "metadata": {
        "id": "2s49RaIWqpWP"
      }
    },
    {
      "cell_type": "markdown",
      "source": [
        "Even though there's a general range of blood sugar levels for each diagnosis, it is important to note that there are outliers. Therefore, health professionals also take into consideration other symptoms and pre-existing health conditions to determine a patient's diagnosis"
      ],
      "metadata": {
        "id": "XAJ1SI1ZsF_Q"
      }
    },
    {
      "cell_type": "code",
      "source": [],
      "metadata": {
        "id": "bARJE-qqsb-h"
      },
      "execution_count": null,
      "outputs": []
    }
  ]
}